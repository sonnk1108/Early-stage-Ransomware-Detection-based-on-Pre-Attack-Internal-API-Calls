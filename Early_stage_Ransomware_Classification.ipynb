{
 "cells": [
  {
   "cell_type": "markdown",
   "metadata": {
    "id": "0FCEEJGUeJ0y"
   },
   "source": [
    "# Import modules\n"
   ]
  },
  {
   "cell_type": "code",
   "execution_count": 149,
   "metadata": {
    "id": "Cf9O57vUeZZ3",
    "tags": []
   },
   "outputs": [],
   "source": [
    "import warnings\n",
    "warnings.simplefilter(action='ignore', category=FutureWarning)\n",
    "\n",
    "#ML auxiliary libraries\n",
    "import pandas as pd\n",
    "import numpy as np\n",
    "import matplotlib.pyplot as plt\n",
    "import seaborn as sn\n",
    "\n",
    "#SkLearn auxiliary libraries\n",
    "from sklearn.model_selection import train_test_split\n",
    "from sklearn.metrics import classification_report, confusion_matrix, accuracy_score, ConfusionMatrixDisplay, f1_score, precision_score, recall_score, top_k_accuracy_score\n",
    "\n",
    "#SkLearn classifiers\n",
    "from sklearn.ensemble import RandomForestClassifier\n",
    "from sklearn.naive_bayes import BernoulliNB, MultinomialNB\n",
    "from sklearn.neighbors import KNeighborsClassifier\n",
    "\n",
    "import matplotlib.pyplot as plt\n",
    "import seaborn as sns\n",
    "import numpy as np\n",
    "import pandas as pd \n",
    "import seaborn as sns\n"
   ]
  },
  {
   "cell_type": "code",
   "execution_count": 282,
   "metadata": {
    "colab": {
     "base_uri": "https://localhost:8080/"
    },
    "id": "YS0r4IIkec_9",
    "outputId": "22609874-c4c4-4664-ff8c-c027c6c1ead6"
   },
   "outputs": [
    {
     "data": {
      "text/plain": [
       "5203"
      ]
     },
     "execution_count": 282,
     "metadata": {},
     "output_type": "execute_result"
    }
   ],
   "source": [
    "len(y_ours)"
   ]
  },
  {
   "cell_type": "markdown",
   "metadata": {
    "id": "n2qeWpIReikV"
   },
   "source": [
    "# Import datasets"
   ]
  },
  {
   "cell_type": "code",
   "execution_count": 267,
   "metadata": {
    "colab": {
     "base_uri": "https://localhost:8080/"
    },
    "id": "6PSDptHHefuy",
    "outputId": "23fa24de-c000-47c5-e078-313d7345b10c",
    "tags": []
   },
   "outputs": [],
   "source": [
    "our_dataset = pd.read_csv('output_processed.csv')\n",
    "data = our_dataset.to_numpy()\n",
    "x_ours = data[:, :-1].astype(float)\n",
    "y_ours = our_dataset['Family'].values\n",
    "x_train_ours, x_test_ours, y_train_ours, y_test_ours = train_test_split(x_ours, y_ours, test_size=0.2)\n",
    "# Assuming x_ours and y_ours are your input features and labels, respectively.\n",
    "unique_classes = np.unique(np.concatenate([y_train_ours, y_test_ours]))\n",
    "class_mapping = {cls: idx for idx, cls in enumerate(unique_classes)}\n",
    "y_train_ours = np.array([class_mapping[cls] for cls in y_train_ours])\n",
    "y_test_ours = np.array([class_mapping[cls] for cls in y_test_ours])\n",
    "y_ours = np.array([class_mapping[cls] for cls in y_ours])\n"
   ]
  },
  {
   "cell_type": "markdown",
   "metadata": {},
   "source": [
    "# LGBMClassifier"
   ]
  },
  {
   "cell_type": "code",
   "execution_count": null,
   "metadata": {
    "tags": []
   },
   "outputs": [],
   "source": [
    "from lightgbm import LGBMClassifier\n",
    "from sklearn.model_selection import cross_val_score, train_test_split\n",
    "from sklearn.metrics import accuracy_score\n",
    "\n",
    "# Assuming x_ours and y_ours are your input features and labels, respectively.\n",
    "\n",
    "# Split the data into training and testing sets\n",
    "x_train_ours, x_test_ours, y_train_ours, y_test_ours = train_test_split(x_ours, y_ours, test_size=0.2, random_state=42)\n",
    "\n",
    "# Create the LightGBM classifier with adjusted parameters\n",
    "lgbm_model = LGBMClassifier(\n",
    "    max_bin=500,\n",
    "    learning_rate=0.05,\n",
    "    num_iterations=1000,\n",
    "    num_leaves=50,  # Adjust based on the size of your dataset and complexity\n",
    "    boosting_type='dart',\n",
    "    categorical_feature=[0, 1, 2]  # Specify categorical features indices\n",
    ")\n",
    "\n",
    "# Use cross-validation to evaluate the model\n",
    "cv_scores = cross_val_score(lgbm_model, x_ours, y_ours, cv=5, scoring='accuracy')\n",
    "print(\"Cross-validation accuracy:\", cv_scores)\n",
    "print(\"Cross-validation mean accuracy:\", cv_scores.mean())\n"
   ]
  },
  {
   "cell_type": "code",
   "execution_count": 287,
   "metadata": {
    "tags": []
   },
   "outputs": [
    {
     "name": "stdout",
     "output_type": "stream",
     "text": [
      "Cross-validation accuracy: [1. 1. 1. 1. 1.]\n",
      "Cross-validation mean accuracy: 1.0\n"
     ]
    }
   ],
   "source": [
    "print(\"Cross-validation accuracy:\", cv_scores)\n",
    "print(\"Cross-validation mean accuracy:\", cv_scores.mean())"
   ]
  },
  {
   "cell_type": "markdown",
   "metadata": {},
   "source": [
    "# XGboost"
   ]
  },
  {
   "cell_type": "code",
   "execution_count": 284,
   "metadata": {
    "tags": []
   },
   "outputs": [
    {
     "name": "stdout",
     "output_type": "stream",
     "text": [
      "Cross-validation accuracy: [1. 1. 1. 1. 1.]\n",
      "Cross-validation mean accuracy: 1.0\n"
     ]
    }
   ],
   "source": [
    "\n",
    "\n",
    "# Assuming x_ours and y_ours are your input features and labels, respectively.\n",
    "\n",
    "# Split the data into training and testing sets\n",
    "\n",
    "# Define XGBoost parameters\n",
    "xgb_params = {\n",
    "    'colsample_bytree': 0.9,\n",
    "    'learning_rate': 0.1,\n",
    "    'max_depth': 9,\n",
    "    'n_estimators': 200,\n",
    "    'subsample': 0.9,\n",
    "    'objective': 'multi:softmax',\n",
    "    'num_class': len(set(y_train_ours)),\n",
    "    'eval_metric': 'mlogloss'\n",
    "}\n",
    "\n",
    "# Create XGBoost classifier\n",
    "xgb_model = xgb.XGBClassifier(**xgb_params)\n",
    "\n",
    "# Use cross-validation to evaluate the model\n",
    "cv_scores = cross_val_score(xgb_model, x_ours, y_ours, cv=5, scoring='accuracy')\n",
    "print(\"Cross-validation accuracy:\", cv_scores)\n",
    "\n",
    "print(\"Cross-validation mean accuracy:\", cv_scores.mean())\n",
    "\n",
    "\n"
   ]
  },
  {
   "cell_type": "markdown",
   "metadata": {
    "tags": []
   },
   "source": [
    "# ANN"
   ]
  },
  {
   "cell_type": "code",
   "execution_count": 271,
   "metadata": {
    "colab": {
     "base_uri": "https://localhost:8080/"
    },
    "id": "hJk56InyqAqb",
    "outputId": "b7fe9623-740d-40ae-e2d8-be467f41401f",
    "tags": []
   },
   "outputs": [
    {
     "name": "stdout",
     "output_type": "stream",
     "text": [
      "Model: \"sequential_37\"\n",
      "_________________________________________________________________\n",
      " Layer (type)                Output Shape              Param #   \n",
      "=================================================================\n",
      " dense_124 (Dense)           (None, 512)               36352     \n",
      "                                                                 \n",
      " dense_125 (Dense)           (None, 256)               131328    \n",
      "                                                                 \n",
      " dense_126 (Dense)           (None, 128)               32896     \n",
      "                                                                 \n",
      " dropout_36 (Dropout)        (None, 128)               0         \n",
      "                                                                 \n",
      " dense_127 (Dense)           (None, 13)                1677      \n",
      "                                                                 \n",
      "=================================================================\n",
      "Total params: 202253 (790.05 KB)\n",
      "Trainable params: 202253 (790.05 KB)\n",
      "Non-trainable params: 0 (0.00 Byte)\n",
      "_________________________________________________________________\n",
      "Epoch 1/100\n",
      "417/417 [==============================] - 2s 3ms/step - loss: 0.8601 - accuracy: 0.7126 - top_k_categorical_accuracy: 0.8424\n",
      "Epoch 2/100\n",
      "417/417 [==============================] - 1s 2ms/step - loss: 0.3200 - accuracy: 0.8955 - top_k_categorical_accuracy: 0.9596\n",
      "Epoch 3/100\n",
      "417/417 [==============================] - 1s 2ms/step - loss: 0.2456 - accuracy: 0.9142 - top_k_categorical_accuracy: 0.9724\n",
      "Epoch 4/100\n",
      "417/417 [==============================] - 1s 2ms/step - loss: 0.2035 - accuracy: 0.9298 - top_k_categorical_accuracy: 0.9825\n",
      "Epoch 5/100\n",
      "417/417 [==============================] - 1s 2ms/step - loss: 0.1600 - accuracy: 0.9452 - top_k_categorical_accuracy: 0.9877\n",
      "Epoch 6/100\n",
      "417/417 [==============================] - 1s 2ms/step - loss: 0.1597 - accuracy: 0.9457 - top_k_categorical_accuracy: 0.9868\n",
      "Epoch 7/100\n",
      "417/417 [==============================] - 1s 2ms/step - loss: 0.1377 - accuracy: 0.9572 - top_k_categorical_accuracy: 0.9918\n",
      "Epoch 8/100\n",
      "417/417 [==============================] - 1s 2ms/step - loss: 0.1183 - accuracy: 0.9582 - top_k_categorical_accuracy: 0.9935\n",
      "Epoch 9/100\n",
      "417/417 [==============================] - 1s 2ms/step - loss: 0.1162 - accuracy: 0.9632 - top_k_categorical_accuracy: 0.9933\n",
      "Epoch 10/100\n",
      "417/417 [==============================] - 1s 2ms/step - loss: 0.1047 - accuracy: 0.9630 - top_k_categorical_accuracy: 0.9952\n",
      "Epoch 11/100\n",
      "417/417 [==============================] - 1s 2ms/step - loss: 0.1105 - accuracy: 0.9630 - top_k_categorical_accuracy: 0.9940\n",
      "Epoch 12/100\n",
      "417/417 [==============================] - 1s 2ms/step - loss: 0.1271 - accuracy: 0.9635 - top_k_categorical_accuracy: 0.9947\n",
      "Epoch 13/100\n",
      "417/417 [==============================] - 1s 2ms/step - loss: 0.0828 - accuracy: 0.9716 - top_k_categorical_accuracy: 0.9950\n",
      "Epoch 14/100\n",
      "417/417 [==============================] - 1s 2ms/step - loss: 0.0956 - accuracy: 0.9714 - top_k_categorical_accuracy: 0.9962\n",
      "Epoch 15/100\n",
      "417/417 [==============================] - 1s 2ms/step - loss: 0.0726 - accuracy: 0.9760 - top_k_categorical_accuracy: 0.9966\n",
      "Epoch 16/100\n",
      "417/417 [==============================] - 1s 2ms/step - loss: 0.0788 - accuracy: 0.9743 - top_k_categorical_accuracy: 0.9962\n",
      "Epoch 17/100\n",
      "417/417 [==============================] - 1s 2ms/step - loss: 0.0836 - accuracy: 0.9743 - top_k_categorical_accuracy: 0.9974\n",
      "Epoch 18/100\n",
      "417/417 [==============================] - 1s 2ms/step - loss: 0.0468 - accuracy: 0.9851 - top_k_categorical_accuracy: 0.9978\n",
      "Epoch 19/100\n",
      "417/417 [==============================] - 1s 2ms/step - loss: 0.0638 - accuracy: 0.9762 - top_k_categorical_accuracy: 0.9969\n",
      "Epoch 20/100\n",
      "417/417 [==============================] - 1s 2ms/step - loss: 0.0736 - accuracy: 0.9774 - top_k_categorical_accuracy: 0.9959\n",
      "Epoch 21/100\n",
      "417/417 [==============================] - 1s 2ms/step - loss: 0.0558 - accuracy: 0.9817 - top_k_categorical_accuracy: 0.9971\n",
      "Epoch 22/100\n",
      "417/417 [==============================] - 1s 2ms/step - loss: 0.1011 - accuracy: 0.9721 - top_k_categorical_accuracy: 0.9971\n",
      "Epoch 23/100\n",
      "417/417 [==============================] - 1s 2ms/step - loss: 0.0407 - accuracy: 0.9851 - top_k_categorical_accuracy: 0.9988\n",
      "Epoch 24/100\n",
      "417/417 [==============================] - 1s 2ms/step - loss: 0.0812 - accuracy: 0.9769 - top_k_categorical_accuracy: 0.9957\n",
      "Epoch 25/100\n",
      "417/417 [==============================] - 1s 2ms/step - loss: 0.0296 - accuracy: 0.9916 - top_k_categorical_accuracy: 0.9978\n",
      "Epoch 26/100\n",
      "417/417 [==============================] - 1s 2ms/step - loss: 0.0468 - accuracy: 0.9844 - top_k_categorical_accuracy: 0.9998\n",
      "Epoch 27/100\n",
      "417/417 [==============================] - 1s 2ms/step - loss: 0.0606 - accuracy: 0.9817 - top_k_categorical_accuracy: 0.9969\n",
      "Epoch 28/100\n",
      "417/417 [==============================] - 1s 2ms/step - loss: 0.0373 - accuracy: 0.9897 - top_k_categorical_accuracy: 0.9986\n",
      "Epoch 29/100\n",
      "417/417 [==============================] - 1s 2ms/step - loss: 0.0414 - accuracy: 0.9863 - top_k_categorical_accuracy: 0.9986\n",
      "Epoch 30/100\n",
      "417/417 [==============================] - 1s 2ms/step - loss: 0.0331 - accuracy: 0.9892 - top_k_categorical_accuracy: 0.9993\n",
      "Epoch 31/100\n",
      "417/417 [==============================] - 1s 2ms/step - loss: 0.0877 - accuracy: 0.9789 - top_k_categorical_accuracy: 0.9962\n",
      "Epoch 32/100\n",
      "417/417 [==============================] - 1s 2ms/step - loss: 0.0354 - accuracy: 0.9894 - top_k_categorical_accuracy: 0.9990\n",
      "Epoch 33/100\n",
      "417/417 [==============================] - 1s 3ms/step - loss: 0.0183 - accuracy: 0.9947 - top_k_categorical_accuracy: 0.9986\n",
      "Epoch 34/100\n",
      "417/417 [==============================] - 1s 2ms/step - loss: 0.0357 - accuracy: 0.9873 - top_k_categorical_accuracy: 0.9986\n",
      "Epoch 35/100\n",
      "417/417 [==============================] - 1s 2ms/step - loss: 0.0437 - accuracy: 0.9882 - top_k_categorical_accuracy: 0.9988\n",
      "Epoch 36/100\n",
      "417/417 [==============================] - 1s 2ms/step - loss: 0.0271 - accuracy: 0.9914 - top_k_categorical_accuracy: 0.9988\n",
      "Epoch 37/100\n",
      "417/417 [==============================] - 1s 2ms/step - loss: 0.0430 - accuracy: 0.9880 - top_k_categorical_accuracy: 0.9978\n",
      "Epoch 38/100\n",
      "417/417 [==============================] - 1s 2ms/step - loss: 0.0575 - accuracy: 0.9820 - top_k_categorical_accuracy: 0.9978\n",
      "Epoch 39/100\n",
      "417/417 [==============================] - 1s 2ms/step - loss: 0.0414 - accuracy: 0.9882 - top_k_categorical_accuracy: 0.9988\n",
      "Epoch 40/100\n",
      "417/417 [==============================] - 1s 2ms/step - loss: 0.0463 - accuracy: 0.9868 - top_k_categorical_accuracy: 0.9990\n",
      "Epoch 41/100\n",
      "417/417 [==============================] - 1s 2ms/step - loss: 0.0255 - accuracy: 0.9933 - top_k_categorical_accuracy: 0.9983\n",
      "Epoch 42/100\n",
      "417/417 [==============================] - 1s 2ms/step - loss: 0.0270 - accuracy: 0.9914 - top_k_categorical_accuracy: 0.9988\n",
      "Epoch 43/100\n",
      "417/417 [==============================] - 1s 2ms/step - loss: 0.0190 - accuracy: 0.9935 - top_k_categorical_accuracy: 0.9995\n",
      "Epoch 44/100\n",
      "417/417 [==============================] - 1s 2ms/step - loss: 0.0494 - accuracy: 0.9868 - top_k_categorical_accuracy: 0.9981\n",
      "Epoch 45/100\n",
      "417/417 [==============================] - 1s 2ms/step - loss: 0.0343 - accuracy: 0.9887 - top_k_categorical_accuracy: 0.9993\n",
      "Epoch 46/100\n",
      "417/417 [==============================] - 1s 2ms/step - loss: 0.0417 - accuracy: 0.9863 - top_k_categorical_accuracy: 0.9988\n",
      "Epoch 47/100\n",
      "417/417 [==============================] - 1s 2ms/step - loss: 0.0440 - accuracy: 0.9882 - top_k_categorical_accuracy: 0.9966\n",
      "Epoch 48/100\n",
      "417/417 [==============================] - 1s 2ms/step - loss: 0.0248 - accuracy: 0.9950 - top_k_categorical_accuracy: 0.9988\n",
      "Epoch 49/100\n",
      "417/417 [==============================] - 1s 2ms/step - loss: 0.0169 - accuracy: 0.9957 - top_k_categorical_accuracy: 0.9988\n",
      "Epoch 50/100\n",
      "417/417 [==============================] - 1s 2ms/step - loss: 0.0216 - accuracy: 0.9930 - top_k_categorical_accuracy: 0.9983\n",
      "Epoch 51/100\n",
      "417/417 [==============================] - 1s 2ms/step - loss: 0.0073 - accuracy: 0.9986 - top_k_categorical_accuracy: 1.0000\n",
      "Epoch 52/100\n",
      "417/417 [==============================] - 1s 2ms/step - loss: 0.0465 - accuracy: 0.9875 - top_k_categorical_accuracy: 0.9976\n",
      "Epoch 53/100\n",
      "417/417 [==============================] - 1s 2ms/step - loss: 0.0798 - accuracy: 0.9786 - top_k_categorical_accuracy: 0.9964\n",
      "Epoch 54/100\n",
      "417/417 [==============================] - 1s 2ms/step - loss: 0.0236 - accuracy: 0.9930 - top_k_categorical_accuracy: 0.9988\n",
      "Epoch 55/100\n",
      "417/417 [==============================] - 1s 2ms/step - loss: 0.0200 - accuracy: 0.9950 - top_k_categorical_accuracy: 0.9993\n",
      "Epoch 56/100\n",
      "417/417 [==============================] - 1s 2ms/step - loss: 0.0376 - accuracy: 0.9875 - top_k_categorical_accuracy: 0.9993\n",
      "Epoch 57/100\n",
      "417/417 [==============================] - 1s 2ms/step - loss: 0.0346 - accuracy: 0.9933 - top_k_categorical_accuracy: 0.9995\n",
      "Epoch 58/100\n",
      "417/417 [==============================] - 1s 2ms/step - loss: 0.0412 - accuracy: 0.9894 - top_k_categorical_accuracy: 0.9995\n",
      "Epoch 59/100\n",
      "417/417 [==============================] - 1s 2ms/step - loss: 0.0122 - accuracy: 0.9974 - top_k_categorical_accuracy: 0.9998\n",
      "Epoch 60/100\n",
      "417/417 [==============================] - 1s 2ms/step - loss: 0.0236 - accuracy: 0.9933 - top_k_categorical_accuracy: 0.9988\n",
      "Epoch 61/100\n",
      "417/417 [==============================] - 1s 2ms/step - loss: 0.0459 - accuracy: 0.9892 - top_k_categorical_accuracy: 0.9978\n",
      "Epoch 62/100\n",
      "417/417 [==============================] - 1s 2ms/step - loss: 0.0173 - accuracy: 0.9964 - top_k_categorical_accuracy: 0.9995\n",
      "Epoch 63/100\n",
      "417/417 [==============================] - 1s 2ms/step - loss: 0.0237 - accuracy: 0.9928 - top_k_categorical_accuracy: 0.9995\n",
      "Epoch 64/100\n",
      "417/417 [==============================] - 1s 2ms/step - loss: 0.0700 - accuracy: 0.9839 - top_k_categorical_accuracy: 0.9981\n",
      "Epoch 65/100\n",
      "417/417 [==============================] - 1s 2ms/step - loss: 0.0101 - accuracy: 0.9966 - top_k_categorical_accuracy: 0.9998\n",
      "Epoch 66/100\n",
      "417/417 [==============================] - 1s 2ms/step - loss: 0.0337 - accuracy: 0.9906 - top_k_categorical_accuracy: 0.9993\n",
      "Epoch 67/100\n",
      "417/417 [==============================] - 1s 2ms/step - loss: 0.0230 - accuracy: 0.9940 - top_k_categorical_accuracy: 0.9990\n",
      "Epoch 68/100\n",
      "417/417 [==============================] - 1s 2ms/step - loss: 0.0125 - accuracy: 0.9969 - top_k_categorical_accuracy: 0.9998\n",
      "Epoch 69/100\n",
      "417/417 [==============================] - 1s 2ms/step - loss: 0.0323 - accuracy: 0.9911 - top_k_categorical_accuracy: 0.9993\n",
      "Epoch 70/100\n",
      "417/417 [==============================] - 1s 2ms/step - loss: 0.0224 - accuracy: 0.9928 - top_k_categorical_accuracy: 0.9998\n",
      "Epoch 71/100\n",
      "417/417 [==============================] - 1s 2ms/step - loss: 0.0244 - accuracy: 0.9916 - top_k_categorical_accuracy: 0.9998\n",
      "Epoch 72/100\n",
      "417/417 [==============================] - 1s 2ms/step - loss: 0.0215 - accuracy: 0.9938 - top_k_categorical_accuracy: 0.9995\n",
      "Epoch 73/100\n",
      "417/417 [==============================] - 1s 2ms/step - loss: 0.0320 - accuracy: 0.9906 - top_k_categorical_accuracy: 0.9981\n",
      "Epoch 74/100\n",
      "417/417 [==============================] - 1s 2ms/step - loss: 0.0097 - accuracy: 0.9969 - top_k_categorical_accuracy: 0.9998\n",
      "Epoch 75/100\n",
      "417/417 [==============================] - 1s 2ms/step - loss: 0.0357 - accuracy: 0.9901 - top_k_categorical_accuracy: 0.9962\n",
      "Epoch 76/100\n",
      "417/417 [==============================] - 1s 2ms/step - loss: 0.0453 - accuracy: 0.9938 - top_k_categorical_accuracy: 0.9993\n",
      "Epoch 77/100\n",
      "417/417 [==============================] - 1s 2ms/step - loss: 0.0156 - accuracy: 0.9954 - top_k_categorical_accuracy: 0.9998\n",
      "Epoch 78/100\n",
      "417/417 [==============================] - 1s 2ms/step - loss: 0.0637 - accuracy: 0.9863 - top_k_categorical_accuracy: 0.9983\n",
      "Epoch 79/100\n",
      "417/417 [==============================] - 1s 2ms/step - loss: 0.0242 - accuracy: 0.9940 - top_k_categorical_accuracy: 0.9983\n",
      "Epoch 80/100\n",
      "417/417 [==============================] - 1s 2ms/step - loss: 0.0127 - accuracy: 0.9959 - top_k_categorical_accuracy: 0.9995\n",
      "Epoch 81/100\n",
      "417/417 [==============================] - 1s 2ms/step - loss: 0.0241 - accuracy: 0.9923 - top_k_categorical_accuracy: 0.9986\n",
      "Epoch 82/100\n",
      "417/417 [==============================] - 1s 2ms/step - loss: 0.0081 - accuracy: 0.9971 - top_k_categorical_accuracy: 0.9998\n",
      "Epoch 83/100\n",
      "417/417 [==============================] - 1s 2ms/step - loss: 0.0071 - accuracy: 0.9976 - top_k_categorical_accuracy: 0.9998\n",
      "Epoch 84/100\n",
      "417/417 [==============================] - 1s 2ms/step - loss: 0.0390 - accuracy: 0.9892 - top_k_categorical_accuracy: 0.9990\n",
      "Epoch 85/100\n",
      "417/417 [==============================] - 1s 2ms/step - loss: 0.0279 - accuracy: 0.9954 - top_k_categorical_accuracy: 0.9998\n",
      "Epoch 86/100\n",
      "417/417 [==============================] - 1s 2ms/step - loss: 0.0385 - accuracy: 0.9916 - top_k_categorical_accuracy: 0.9988\n",
      "Epoch 87/100\n",
      "417/417 [==============================] - 1s 2ms/step - loss: 0.0260 - accuracy: 0.9921 - top_k_categorical_accuracy: 0.9990\n",
      "Epoch 88/100\n",
      "417/417 [==============================] - 1s 2ms/step - loss: 0.0155 - accuracy: 0.9952 - top_k_categorical_accuracy: 0.9995\n",
      "Epoch 89/100\n",
      "417/417 [==============================] - 1s 2ms/step - loss: 0.0041 - accuracy: 0.9995 - top_k_categorical_accuracy: 0.9998\n",
      "Epoch 90/100\n",
      "417/417 [==============================] - 1s 2ms/step - loss: 0.0284 - accuracy: 0.9935 - top_k_categorical_accuracy: 0.9983\n",
      "Epoch 91/100\n",
      "417/417 [==============================] - 1s 2ms/step - loss: 0.0314 - accuracy: 0.9911 - top_k_categorical_accuracy: 0.9981\n",
      "Epoch 92/100\n",
      "417/417 [==============================] - 1s 2ms/step - loss: 0.0246 - accuracy: 0.9928 - top_k_categorical_accuracy: 0.9995\n",
      "Epoch 93/100\n",
      "417/417 [==============================] - 1s 2ms/step - loss: 0.0075 - accuracy: 0.9974 - top_k_categorical_accuracy: 1.0000\n",
      "Epoch 94/100\n",
      "417/417 [==============================] - 1s 2ms/step - loss: 0.0024 - accuracy: 0.9993 - top_k_categorical_accuracy: 1.0000\n",
      "Epoch 95/100\n",
      "417/417 [==============================] - 1s 2ms/step - loss: 0.0032 - accuracy: 0.9995 - top_k_categorical_accuracy: 0.9998\n",
      "Epoch 96/100\n",
      "417/417 [==============================] - 1s 2ms/step - loss: 0.0252 - accuracy: 0.9928 - top_k_categorical_accuracy: 0.9990\n",
      "Epoch 97/100\n",
      "417/417 [==============================] - 1s 2ms/step - loss: 0.0488 - accuracy: 0.9918 - top_k_categorical_accuracy: 0.9986\n",
      "Epoch 98/100\n",
      "417/417 [==============================] - 1s 2ms/step - loss: 0.0478 - accuracy: 0.9911 - top_k_categorical_accuracy: 0.9990\n",
      "Epoch 99/100\n",
      "417/417 [==============================] - 1s 2ms/step - loss: 0.0203 - accuracy: 0.9950 - top_k_categorical_accuracy: 0.9993\n",
      "Epoch 100/100\n",
      "417/417 [==============================] - 1s 2ms/step - loss: 0.0148 - accuracy: 0.9945 - top_k_categorical_accuracy: 0.9995\n",
      "33/33 [==============================] - 0s 4ms/step\n",
      "33/33 [==============================] - 0s 2ms/step\n",
      "[[ 82   0   0   0   0   0   0   0   0   0   0   0   0]\n",
      " [  1 100   0   0   0   0   0   0   0   0   0   0   0]\n",
      " [  0   1  71   1   0   0   0   0   0   0   0   0   0]\n",
      " [  0   0   0  87   0   0   0   0   0   0   0   0   0]\n",
      " [  0   0   0   4  78   1   0   0   0   0   0   0   0]\n",
      " [  0   0   0   0   3  60   0   0   0   0   0   0   0]\n",
      " [  0   0   0   0   0   0  59   0   0   0   0   0   0]\n",
      " [  0   0   0   0   0   0   3  78   0   0   0   0   0]\n",
      " [  0   0   0   0   0   0   0   0  58   2   0   0   0]\n",
      " [  0   0   0   0   0   0   0   0   2  96   0   0   0]\n",
      " [  0   0   0   0   0   0   0   0   0   2  80   2   0]\n",
      " [  0   0   0   0   0   0   0   0   0   0   0  84   0]\n",
      " [  0   0   0   0   0   0   0   0   0   0   0   0  86]]\n",
      "              precision    recall  f1-score   support\n",
      "\n",
      "           0       0.99      1.00      0.99        82\n",
      "           1       0.99      0.99      0.99       101\n",
      "           2       1.00      0.97      0.99        73\n",
      "           3       0.95      1.00      0.97        87\n",
      "           4       0.96      0.94      0.95        83\n",
      "           5       0.98      0.95      0.97        63\n",
      "           6       0.95      1.00      0.98        59\n",
      "           7       1.00      0.96      0.98        81\n",
      "           8       0.97      0.97      0.97        60\n",
      "           9       0.96      0.98      0.97        98\n",
      "          10       1.00      0.95      0.98        84\n",
      "          11       0.98      1.00      0.99        84\n",
      "          12       1.00      1.00      1.00        86\n",
      "\n",
      "    accuracy                           0.98      1041\n",
      "   macro avg       0.98      0.98      0.98      1041\n",
      "weighted avg       0.98      0.98      0.98      1041\n",
      "\n",
      "precision: 0.9793768352723857\n",
      "recall: 0.978866474543708\n",
      "f1-score: 0.9788855804915583\n",
      "accuracy: 0.978866474543708\n"
     ]
    }
   ],
   "source": [
    "y_cat_ours = to_categorical(y_ours)\n",
    "x_train_ours, x_test_ours, y_train_ours, y_test_ours = train_test_split(x_ours, y_cat_ours, test_size=0.2)\n",
    "\n",
    "model = Sequential()\n",
    "model.add(Dense(512, input_dim=70, activation = \"relu\"))\n",
    "model.add(Dense(256, activation = \"relu\"))\n",
    "model.add(Dense(128, activation = \"relu\"))\n",
    "model.add(Dropout(0.2))\n",
    "model.add(Dense(13, activation = \"softmax\"))\n",
    "model.compile(loss='categorical_crossentropy', optimizer='adam', metrics=['accuracy', TopKCategoricalAccuracy(k=2)])\n",
    "model.summary()\n",
    "model.fit(x_train_ours, y_train_ours, verbose=1, epochs=100, batch_size=10)\n",
    "\n",
    "predict_x=model.predict(x_test_ours) \n",
    "y_pred_class=np.argmax(predict_x,axis=1)\n",
    "\n",
    "y_pred = model.predict(x_test_ours)\n",
    "y_test_class = np.argmax(y_test_ours, axis=1)\n",
    "print(confusion_matrix(y_test_class, y_pred_class))\n",
    "\n",
    "print(classification_report(y_test_class, y_pred_class))\n",
    "\n",
    "print('precision: ' + str(precision_score(y_pred_class, y_test_class, average='weighted')))\n",
    "print('recall: ' + str(recall_score(y_pred_class, y_test_class, average='weighted')))\n",
    "print('f1-score: ' + str(f1_score(y_pred_class, y_test_class, average='weighted')))\n",
    "print('accuracy: ' + str(accuracy_score(y_pred_class, y_test_class)))"
   ]
  },
  {
   "cell_type": "markdown",
   "metadata": {
    "id": "fHxD6av3YMFJ"
   },
   "source": [
    "## Random Forest"
   ]
  },
  {
   "cell_type": "code",
   "execution_count": 270,
   "metadata": {
    "colab": {
     "base_uri": "https://localhost:8080/"
    },
    "id": "iByfYD26ZYJi",
    "outputId": "6763e5f0-5146-437b-f163-8649b06ae010",
    "tags": []
   },
   "outputs": [
    {
     "name": "stdout",
     "output_type": "stream",
     "text": [
      "Cross-Validation Scores: [0.97790586 0.97598463 0.97310279 0.97980769 0.97788462]\n",
      "Mean CV Accuracy: 0.9769371166777507\n"
     ]
    }
   ],
   "source": [
    "from sklearn.model_selection import cross_val_score, StratifiedKFold\n",
    "from sklearn.ensemble import RandomForestClassifier\n",
    "from sklearn.metrics import precision_score, recall_score, f1_score, accuracy_score, top_k_accuracy_score, confusion_matrix\n",
    "\n",
    "# Assuming you have x_train_ours, y_train_ours, x_test_ours, y_test_ours\n",
    "\n",
    "# Create RandomForestClassifier\n",
    "rand_for_classifier = RandomForestClassifier()\n",
    "\n",
    "# Perform cross-validation\n",
    "cv = StratifiedKFold(n_splits=5, shuffle=True, random_state=42)  # Adjust the number of splits as needed\n",
    "cv_scores = cross_val_score(rand_for_classifier, x_ours, y_ours, cv=cv, scoring='accuracy')\n",
    "\n",
    "# Print cross-validation scores\n",
    "print(\"Cross-Validation Scores:\", cv_scores)\n",
    "print(\"Mean CV Accuracy:\", cv_scores.mean())\n",
    "\n"
   ]
  },
  {
   "cell_type": "markdown",
   "metadata": {
    "id": "nejjuDQxYNiV"
   },
   "source": [
    "## K-Nearest Neighbors"
   ]
  },
  {
   "cell_type": "code",
   "execution_count": 285,
   "metadata": {
    "colab": {
     "base_uri": "https://localhost:8080/"
    },
    "id": "uqkMLRZQYZ1W",
    "outputId": "fd521dab-bab2-41d9-b0ce-86951d9808e6"
   },
   "outputs": [
    {
     "name": "stdout",
     "output_type": "stream",
     "text": [
      "Cross-Validation Scores: [0.95438175 0.96398559 0.96033654 0.94711538 0.96033654]\n",
      "Cross-validation mean score: 0.9572311616954474\n"
     ]
    }
   ],
   "source": [
    "from sklearn.model_selection import cross_val_score, train_test_split\n",
    "from sklearn.neighbors import KNeighborsClassifier\n",
    "from sklearn.metrics import precision_score, recall_score, f1_score, accuracy_score, top_k_accuracy_score\n",
    "\n",
    "# Assuming x_ours and y_ours are your full dataset\n",
    "\n",
    "# Split the data into training and testing sets\n",
    "x_train_ours, x_test_ours, y_train_ours, y_test_ours = train_test_split(x_ours, y_ours, test_size=0.2, random_state=42)\n",
    "\n",
    "# Initialize KNeighborsClassifier\n",
    "knn = KNeighborsClassifier(n_neighbors=3)\n",
    "\n",
    "# Perform cross-validation on the training set\n",
    "cv_scores = cross_val_score(knn, x_train_ours, y_train_ours, cv=5)\n",
    "print(\"Cross-Validation Scores:\", cv_scores)\n",
    "print(\"Cross-validation mean score:\", cv_scores.mean())\n",
    "\n",
    "# Fit the model on the training data\n"
   ]
  }
 ],
 "metadata": {
  "colab": {
   "collapsed_sections": [
    "7MRAbjbSimFh",
    "6oiIptz1jOcr",
    "VvAr_t5szsMR",
    "ciP9XIsf0CHB"
   ],
   "provenance": []
  },
  "kernelspec": {
   "display_name": "Python 3 (ipykernel)",
   "language": "python",
   "name": "python3"
  },
  "language_info": {
   "codemirror_mode": {
    "name": "ipython",
    "version": 3
   },
   "file_extension": ".py",
   "mimetype": "text/x-python",
   "name": "python",
   "nbconvert_exporter": "python",
   "pygments_lexer": "ipython3",
   "version": "3.11.5"
  }
 },
 "nbformat": 4,
 "nbformat_minor": 4
}
